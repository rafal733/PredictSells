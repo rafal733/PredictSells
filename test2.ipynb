{
 "cells": [
  {
   "cell_type": "code",
   "execution_count": 1,
   "id": "f6e06867",
   "metadata": {},
   "outputs": [],
   "source": [
    "from dataloader import DataLoader\n",
    "import pandas as pd\n",
    "import numpy as np"
   ]
  },
  {
   "cell_type": "code",
   "execution_count": 2,
   "id": "ab4c2f00",
   "metadata": {},
   "outputs": [],
   "source": [
    "loader = DataLoader()"
   ]
  },
  {
   "cell_type": "code",
   "execution_count": 3,
   "id": "da3d451a",
   "metadata": {},
   "outputs": [],
   "source": [
    "loader.load_sells_data_from_file('sprzedaz.csv')\n",
    "df_filtered = loader = loader.prepare_sells_data()\n",
    "\n"
   ]
  },
  {
   "cell_type": "code",
   "execution_count": 4,
   "id": "85cc8c17",
   "metadata": {},
   "outputs": [
    {
     "name": "stdout",
     "output_type": "stream",
     "text": [
      "Prognozowana sprzedaż produktu 3224.011 za miesiąc 1 od teraz: -11.10\n",
      "Prognozowana sprzedaż produktu 3224.011 za miesiąc 2 od teraz: 33.99\n",
      "Prognozowana sprzedaż produktu 3224.011 za miesiąc 3 od teraz: 71.41\n"
     ]
    }
   ],
   "source": [
    "import pandas as pd\n",
    "import xgboost as xgb\n",
    "from sklearn.preprocessing import LabelEncoder\n",
    "\n",
    "# 1. Kolumny miesięczne\n",
    "miesiace_kolumny = [str(i) for i in range(96, 0, -1)]\n",
    "\n",
    "# 2. Agregacja do poziomu produktu\n",
    "df_agg = df_filtered.groupby(\"KodProduktu\")[miesiace_kolumny].sum().reset_index()\n",
    "\n",
    "# 3. Przekształcenie na długi format\n",
    "df_long = df_agg.melt(id_vars=\"KodProduktu\", var_name=\"miesiac_ago\", value_name=\"sprzedaz\")\n",
    "df_long[\"miesiac_ago\"] = df_long[\"miesiac_ago\"].astype(int)\n",
    "df_long[\"czas\"] = 97 - df_long[\"miesiac_ago\"]\n",
    "\n",
    "# 4. Tworzenie lagów (1-36)\n",
    "lags = list(range(1, 37))\n",
    "for lag in lags:\n",
    "    df_long[f\"lag_{lag}\"] = df_long.groupby(\"KodProduktu\")[\"sprzedaz\"].shift(lag)\n",
    "\n",
    "# 5. Cechy dodatkowe\n",
    "# rolling, trend, std\n",
    "df_long[\"rolling_mean_3\"] = df_long.groupby(\"KodProduktu\")[\"sprzedaz\"].transform(lambda x: x.rolling(window=3).mean())\n",
    "df_long[\"rolling_mean_12\"] = df_long.groupby(\"KodProduktu\")[\"sprzedaz\"].transform(lambda x: x.rolling(window=12).mean())\n",
    "\n",
    "# Trendy\n",
    "df_long[\"trend_3\"] = df_long.groupby(\"KodProduktu\")[\"sprzedaz\"].transform(lambda x: x.diff(3))\n",
    "df_long[\"trend_12\"] = df_long.groupby(\"KodProduktu\")[\"sprzedaz\"].transform(lambda x: x.diff(12))\n",
    "\n",
    "# Odchylenia\n",
    "df_long[\"std_3\"] = df_long.groupby(\"KodProduktu\")[\"sprzedaz\"].transform(lambda x: x.rolling(3).std())\n",
    "df_long[\"std_12\"] = df_long.groupby(\"KodProduktu\")[\"sprzedaz\"].transform(lambda x: x.rolling(12).std())\n",
    "\n",
    "# Sumy roczne\n",
    "for i in range(1, 4):\n",
    "    df_long[f\"suma_rok_{i}\"] = df_long.groupby(\"KodProduktu\")[\"sprzedaz\"].transform(\n",
    "        lambda x: x.shift(i * 12).rolling(12).sum()\n",
    "    )\n",
    "\n",
    "# 6. Usunięcie braków\n",
    "df_lags = df_long.dropna().copy()\n",
    "\n",
    "# 7. Kodowanie produktu\n",
    "le = LabelEncoder()\n",
    "df_lags[\"KodProduktu_enc\"] = le.fit_transform(df_lags[\"KodProduktu\"])\n",
    "\n",
    "# 8. Dane treningowe\n",
    "cechy_dodatkowe = [\n",
    "    \"rolling_mean_3\", \"rolling_mean_12\", \n",
    "    \"trend_3\", \"trend_12\", \n",
    "    \"std_3\", \"std_12\",\n",
    "    \"suma_rok_1\", \"suma_rok_2\", \"suma_rok_3\"\n",
    "]\n",
    "X = df_lags[[f\"lag_{l}\" for l in lags] + cechy_dodatkowe + [\"KodProduktu_enc\"]]\n",
    "y = df_lags[\"sprzedaz\"]\n",
    "\n",
    "# 9. Trening modelu\n",
    "model = xgb.XGBRegressor(n_estimators=300, max_depth=5, learning_rate=0.1, random_state=42)\n",
    "model.fit(X, y)\n",
    "\n",
    "# 10. Prognozowanie dla jednego produktu\n",
    "kod = \"3224.011\"\n",
    "kod_enc = le.transform([kod])[0]\n",
    "\n",
    "df_kod = df_lags[df_lags[\"KodProduktu\"] == kod].sort_values(\"czas\", ascending=False)\n",
    "last_values = df_kod.head(36)[\"sprzedaz\"].tolist()[::-1]  # najnowsze jako ostatnie\n",
    "\n",
    "preds = []\n",
    "for i in range(3):\n",
    "    lag_features = last_values[-36:]\n",
    "    rolling_mean_3 = pd.Series(last_values[-3:]).mean()\n",
    "    rolling_mean_12 = pd.Series(last_values[-12:]).mean()\n",
    "    trend_3 = last_values[-1] - last_values[-4]\n",
    "    trend_12 = last_values[-1] - last_values[-13] if len(last_values) >= 13 else 0\n",
    "    std_3 = pd.Series(last_values[-3:]).std()\n",
    "    std_12 = pd.Series(last_values[-12:]).std()\n",
    "\n",
    "    suma_rok_1 = sum(last_values[-12:])\n",
    "    suma_rok_2 = sum(last_values[-24:-12])\n",
    "    suma_rok_3 = sum(last_values[-36:-24])\n",
    "\n",
    "    x_input = lag_features + [\n",
    "        rolling_mean_3, rolling_mean_12,\n",
    "        trend_3, trend_12,\n",
    "        std_3, std_12,\n",
    "        suma_rok_1, suma_rok_2, suma_rok_3,\n",
    "        kod_enc\n",
    "    ]\n",
    "\n",
    "    y_pred = model.predict([x_input])[0]\n",
    "    preds.append(y_pred)\n",
    "    last_values.append(y_pred)\n",
    "\n",
    "# 11. Wynik\n",
    "for i, p in enumerate(preds):\n",
    "    print(f\"Prognozowana sprzedaż produktu {kod} za miesiąc {i+1} od teraz: {p:.2f}\")\n"
   ]
  },
  {
   "cell_type": "code",
   "execution_count": null,
   "id": "f9cf0aaa",
   "metadata": {},
   "outputs": [],
   "source": []
  }
 ],
 "metadata": {
  "kernelspec": {
   "display_name": "Python 3",
   "language": "python",
   "name": "python3"
  },
  "language_info": {
   "codemirror_mode": {
    "name": "ipython",
    "version": 3
   },
   "file_extension": ".py",
   "mimetype": "text/x-python",
   "name": "python",
   "nbconvert_exporter": "python",
   "pygments_lexer": "ipython3",
   "version": "3.12.7"
  }
 },
 "nbformat": 4,
 "nbformat_minor": 5
}

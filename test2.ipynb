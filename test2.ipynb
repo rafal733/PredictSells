{
 "cells": [
  {
   "cell_type": "code",
   "execution_count": 1,
   "id": "f6e06867",
   "metadata": {},
   "outputs": [],
   "source": [
    "from dataloader import DataLoader\n",
    "import pandas as pd\n",
    "import numpy as np"
   ]
  },
  {
   "cell_type": "code",
   "execution_count": 2,
   "id": "ab4c2f00",
   "metadata": {},
   "outputs": [],
   "source": [
    "loader = DataLoader()"
   ]
  },
  {
   "cell_type": "code",
   "execution_count": 3,
   "id": "da3d451a",
   "metadata": {},
   "outputs": [],
   "source": [
    "loader.load_sells_data_from_file('sprzedaz.csv')\n",
    "df_filtered = loader = loader.prepare_sells_data()\n"
   ]
  },
  {
   "cell_type": "code",
   "execution_count": 7,
   "id": "85cc8c17",
   "metadata": {},
   "outputs": [
    {
     "name": "stdout",
     "output_type": "stream",
     "text": [
      "Prognozowana sprzedaż produktu 2009 za miesiąc 0 od teraz: 311.82\n",
      "Prognozowana sprzedaż produktu 2009 za miesiąc 1 od teraz: 274.25\n",
      "Prognozowana sprzedaż produktu 2009 za miesiąc 2 od teraz: 244.06\n"
     ]
    }
   ],
   "source": [
    "import pandas as pd\n",
    "import xgboost as xgb\n",
    "from sklearn.preprocessing import LabelEncoder\n",
    "\n",
    "# 2. Kolumny miesięczne\n",
    "miesiace_kolumny = [str(i) for i in range(96, 0, -1)]\n",
    "\n",
    "# 3. Agregacja do poziomu produktu\n",
    "df_agg = df_filtered.groupby(\"KodProduktu\")[miesiace_kolumny].sum().reset_index()\n",
    "\n",
    "# 4. Przekształcenie na długi format\n",
    "df_long = df_agg.melt(id_vars=\"KodProduktu\", var_name=\"miesiac_ago\", value_name=\"sprzedaz\")\n",
    "df_long[\"miesiac_ago\"] = df_long[\"miesiac_ago\"].astype(int)\n",
    "df_long[\"czas\"] = 97 - df_long[\"miesiac_ago\"]\n",
    "\n",
    "# 5. Tworzenie lagów\n",
    "lags = [1, 2, 3]\n",
    "for lag in lags:\n",
    "    df_long[f\"lag_{lag}\"] = df_long.groupby(\"KodProduktu\")[\"sprzedaz\"].shift(lag)\n",
    "\n",
    "df_lags = df_long.dropna().copy()\n",
    "\n",
    "#Dodane cechy\n",
    "\n",
    "# 1. Rolling średnie\n",
    "df_long[\"rolling_mean_3\"] = df_long.groupby(\"KodProduktu\")[\"sprzedaz\"].transform(lambda x: x.rolling(window=3).mean())\n",
    "df_long[\"rolling_mean_6\"] = df_long.groupby(\"KodProduktu\")[\"sprzedaz\"].transform(lambda x: x.rolling(window=6).mean())\n",
    "\n",
    "# 2. Trend: różnica między t a t-3\n",
    "df_long[\"trend_3\"] = df_long.groupby(\"KodProduktu\")[\"sprzedaz\"].transform(lambda x: x.diff(3))\n",
    "\n",
    "# 3. Odchylenie standardowe (zmienność)\n",
    "df_long[\"std_3\"] = df_long.groupby(\"KodProduktu\")[\"sprzedaz\"].transform(lambda x: x.rolling(3).std())\n",
    "\n",
    "# 4. Usuń brakujące dane (początki serii)\n",
    "df_lags = df_long.dropna().copy()\n",
    "#Dodane cechy\n",
    "\n",
    "# 6. Kodowanie KodProduktu\n",
    "le = LabelEncoder()\n",
    "df_lags[\"KodProduktu_enc\"] = le.fit_transform(df_lags[\"KodProduktu\"])\n",
    "\n",
    "# 7. Dane treningowe\n",
    "cechy_dodatkowe = [\"rolling_mean_3\", \"rolling_mean_6\", \"trend_3\", \"std_3\"]\n",
    "\n",
    "X = df_lags[[f\"lag_{l}\" for l in lags] + cechy_dodatkowe + [\"KodProduktu_enc\"]]\n",
    "y = df_lags[\"sprzedaz\"]\n",
    "\n",
    "# 8. Trening modelu XGBoost\n",
    "model = xgb.XGBRegressor(n_estimators=100, max_depth=5, learning_rate=0.1, random_state=42)\n",
    "model.fit(X, y)\n",
    "\n",
    "# 9. Prognozowanie dla wybranego produktu\n",
    "kod = \"2009\"\n",
    "kod_enc = le.transform([kod])[0]\n",
    "\n",
    "# Dane historyczne tylko dla tego produktu, posortowane od najnowszych\n",
    "df_kod = df_lags[df_lags[\"KodProduktu\"] == kod].sort_values(\"czas\", ascending=False)\n",
    "last_values = df_kod.head(6)[\"sprzedaz\"].tolist()  # potrzebne do rolling 6\n",
    "\n",
    "preds = []\n",
    "\n",
    "for i in range(3):\n",
    "    # LAGI: ostatnie 3 wartości\n",
    "    lag_1 = last_values[-1]\n",
    "    lag_2 = last_values[-2]\n",
    "    lag_3 = last_values[-3]\n",
    "\n",
    "    # CECHY DODATKOWE:\n",
    "    rolling_mean_3 = pd.Series(last_values[-3:]).mean()\n",
    "    rolling_mean_6 = pd.Series(last_values[-6:]).mean()\n",
    "    trend_3 = last_values[-1] - last_values[-4]  # różnica t - t-3\n",
    "    std_3 = pd.Series(last_values[-3:]).std()\n",
    "\n",
    "    # finalny wektor cech:\n",
    "    x_input = [lag_1, lag_2, lag_3,\n",
    "               rolling_mean_3, rolling_mean_6, trend_3, std_3,\n",
    "               kod_enc]\n",
    "\n",
    "    y_pred = model.predict([x_input])[0]\n",
    "    preds.append(y_pred)\n",
    "\n",
    "    # dodajemy nową predykcję do sekwencji\n",
    "    last_values.append(y_pred)\n",
    "\n",
    "# 10. Wynik\n",
    "for i, p in enumerate(preds):\n",
    "    print(f\"Prognozowana sprzedaż produktu {kod} za miesiąc {i} od teraz: {p:.2f}\")"
   ]
  },
  {
   "cell_type": "code",
   "execution_count": null,
   "id": "5ed034b9",
   "metadata": {},
   "outputs": [],
   "source": []
  }
 ],
 "metadata": {
  "kernelspec": {
   "display_name": "Python 3",
   "language": "python",
   "name": "python3"
  },
  "language_info": {
   "codemirror_mode": {
    "name": "ipython",
    "version": 3
   },
   "file_extension": ".py",
   "mimetype": "text/x-python",
   "name": "python",
   "nbconvert_exporter": "python",
   "pygments_lexer": "ipython3",
   "version": "3.12.7"
  }
 },
 "nbformat": 4,
 "nbformat_minor": 5
}

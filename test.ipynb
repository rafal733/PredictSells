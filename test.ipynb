{
 "cells": [
  {
   "cell_type": "code",
   "execution_count": 1,
   "id": "f6e06867",
   "metadata": {},
   "outputs": [],
   "source": [
    "from dataloader import DataLoader\n",
    "import pandas as pd\n",
    "import numpy as np"
   ]
  },
  {
   "cell_type": "code",
   "execution_count": 2,
   "id": "ab4c2f00",
   "metadata": {},
   "outputs": [],
   "source": [
    "loader = DataLoader()"
   ]
  },
  {
   "cell_type": "code",
   "execution_count": 3,
   "id": "da3d451a",
   "metadata": {},
   "outputs": [],
   "source": [
    "loader.load_sells_data_from_file('sprzedaz.csv')\n",
    "df_filtered = loader = loader.prepare_sells_data()\n"
   ]
  },
  {
   "cell_type": "code",
   "execution_count": 4,
   "id": "39105860",
   "metadata": {},
   "outputs": [
    {
     "name": "stdout",
     "output_type": "stream",
     "text": [
      "Prognozowana sprzedaż produktu 0014 za miesiąc 0 od teraz: 0.00\n",
      "Prognozowana sprzedaż produktu 0014 za miesiąc 1 od teraz: 0.00\n",
      "Prognozowana sprzedaż produktu 0014 za miesiąc 2 od teraz: 0.00\n"
     ]
    },
    {
     "name": "stderr",
     "output_type": "stream",
     "text": [
      "c:\\Python312\\Lib\\site-packages\\sklearn\\utils\\validation.py:2739: UserWarning: X does not have valid feature names, but RandomForestRegressor was fitted with feature names\n",
      "  warnings.warn(\n",
      "c:\\Python312\\Lib\\site-packages\\sklearn\\utils\\validation.py:2739: UserWarning: X does not have valid feature names, but RandomForestRegressor was fitted with feature names\n",
      "  warnings.warn(\n",
      "c:\\Python312\\Lib\\site-packages\\sklearn\\utils\\validation.py:2739: UserWarning: X does not have valid feature names, but RandomForestRegressor was fitted with feature names\n",
      "  warnings.warn(\n"
     ]
    }
   ],
   "source": [
    "import pandas as pd\n",
    "from sklearn.ensemble import RandomForestRegressor\n",
    "from sklearn.preprocessing import LabelEncoder\n",
    "\n",
    "# 2. Lista kolumn miesięcznych: od 96 do 1 (jako stringi)\n",
    "miesiace_kolumny = [str(i) for i in range(96, 0, -1)]\n",
    "\n",
    "# 3. Agregacja: suma sprzedaży na poziomie KodProduktu\n",
    "df_agg = df_filtered.groupby(\"KodProduktu\")[miesiace_kolumny].sum().reset_index()\n",
    "\n",
    "# 4. Long format\n",
    "df_long = df_agg.melt(id_vars=\"KodProduktu\", var_name=\"miesiac_ago\", value_name=\"sprzedaz\")\n",
    "df_long[\"miesiac_ago\"] = df_long[\"miesiac_ago\"].astype(int)\n",
    "df_long[\"czas\"] = 97 - df_long[\"miesiac_ago\"]  # np. 1 to najstarszy, 96 to ostatni znany\n",
    "\n",
    "# 5. Tworzenie cech lagowych\n",
    "lags = [1, 2, 3]\n",
    "for lag in lags:\n",
    "    df_long[f\"lag_{lag}\"] = df_long.groupby(\"KodProduktu\")[\"sprzedaz\"].shift(lag)\n",
    "\n",
    "# 6. Usunięcie braków\n",
    "df_lags = df_long.dropna().copy()\n",
    "\n",
    "# 7. Zakodowanie KodProduktu\n",
    "le = LabelEncoder()\n",
    "df_lags[\"KodProduktu_enc\"] = le.fit_transform(df_lags[\"KodProduktu\"])\n",
    "\n",
    "# 8. Przygotowanie danych treningowych\n",
    "X = df_lags[[f\"lag_{l}\" for l in lags] + [\"KodProduktu_enc\"]]\n",
    "y = df_lags[\"sprzedaz\"]\n",
    "\n",
    "# 9. Trening modelu\n",
    "model = RandomForestRegressor(n_estimators=100, random_state=42)\n",
    "model.fit(X, y)\n",
    "\n",
    "# 10. Predykcja dla wybranego produktu\n",
    "kod = \"0014\"  # <- tutaj wpisz KodProduktu, dla którego chcesz prognozę\n",
    "\n",
    "# Ostatnie dane tego produktu\n",
    "df_kod = df_lags[df_lags[\"KodProduktu\"] == kod].sort_values(\"czas\", ascending=False)\n",
    "\n",
    "# Bierzemy ostatnie znane lags\n",
    "last_values = df_kod.head(3)[\"sprzedaz\"].tolist()\n",
    "\n",
    "# Zakoduj produkt\n",
    "kod_enc = le.transform([kod])[0]\n",
    "\n",
    "# Predykcja 3 przyszłych miesięcy: 0, -1, -2\n",
    "preds = []\n",
    "for _ in range(3):\n",
    "    x_input = [last_values[-1], last_values[-2], last_values[-3]][::-1]\n",
    "    x_input.append(kod_enc)\n",
    "    y_pred = model.predict([x_input])[0]\n",
    "    preds.append(y_pred)\n",
    "    last_values.append(y_pred)\n",
    "\n",
    "# 11. Wynik\n",
    "for i, p in enumerate(preds):\n",
    "    print(f\"Prognozowana sprzedaż produktu {kod} za miesiąc {i} od teraz: {p:.2f}\")"
   ]
  },
  {
   "cell_type": "code",
   "execution_count": 8,
   "id": "85cc8c17",
   "metadata": {},
   "outputs": [
    {
     "name": "stdout",
     "output_type": "stream",
     "text": [
      "Prognozowana sprzedaż produktu 0003 za miesiąc 0 od teraz: 37.47\n",
      "Prognozowana sprzedaż produktu 0003 za miesiąc 1 od teraz: 9.64\n",
      "Prognozowana sprzedaż produktu 0003 za miesiąc 2 od teraz: 32.32\n"
     ]
    }
   ],
   "source": [
    "import pandas as pd\n",
    "import xgboost as xgb\n",
    "from sklearn.preprocessing import LabelEncoder\n",
    "\n",
    "# 2. Kolumny miesięczne\n",
    "miesiace_kolumny = [str(i) for i in range(96, 0, -1)]\n",
    "\n",
    "# 3. Agregacja do poziomu produktu\n",
    "df_agg = df_filtered.groupby(\"KodProduktu\")[miesiace_kolumny].sum().reset_index()\n",
    "\n",
    "# 4. Przekształcenie na długi format\n",
    "df_long = df_agg.melt(id_vars=\"KodProduktu\", var_name=\"miesiac_ago\", value_name=\"sprzedaz\")\n",
    "df_long[\"miesiac_ago\"] = df_long[\"miesiac_ago\"].astype(int)\n",
    "df_long[\"czas\"] = 97 - df_long[\"miesiac_ago\"]\n",
    "\n",
    "# 5. Tworzenie lagów\n",
    "lags = [1, 2, 3]\n",
    "for lag in lags:\n",
    "    df_long[f\"lag_{lag}\"] = df_long.groupby(\"KodProduktu\")[\"sprzedaz\"].shift(lag)\n",
    "\n",
    "df_lags = df_long.dropna().copy()\n",
    "\n",
    "# 6. Kodowanie KodProduktu\n",
    "le = LabelEncoder()\n",
    "df_lags[\"KodProduktu_enc\"] = le.fit_transform(df_lags[\"KodProduktu\"])\n",
    "\n",
    "# 7. Dane treningowe\n",
    "X = df_lags[[f\"lag_{l}\" for l in lags] + [\"KodProduktu_enc\"]]\n",
    "y = df_lags[\"sprzedaz\"]\n",
    "\n",
    "# 8. Trening modelu XGBoost\n",
    "model = xgb.XGBRegressor(n_estimators=100, max_depth=5, learning_rate=0.1, random_state=42)\n",
    "model.fit(X, y)\n",
    "\n",
    "# 9. Prognozowanie dla wybranego produktu\n",
    "kod = \"0003\"  # <- wpisz dowolny KodProduktu\n",
    "kod_enc = le.transform([kod])[0]\n",
    "\n",
    "# Ostatnie znane dane produktu\n",
    "df_kod = df_lags[df_lags[\"KodProduktu\"] == kod].sort_values(\"czas\", ascending=False)\n",
    "last_values = df_kod.head(3)[\"sprzedaz\"].tolist()\n",
    "\n",
    "# Prognozujemy na 3 przyszłe miesiące\n",
    "preds = []\n",
    "for _ in range(3):\n",
    "    x_input = [last_values[-1], last_values[-2], last_values[-3]][::-1]\n",
    "    x_input.append(kod_enc)\n",
    "    y_pred = model.predict([x_input])[0]\n",
    "    preds.append(y_pred)\n",
    "    last_values.append(y_pred)\n",
    "\n",
    "# 10. Wynik\n",
    "for i, p in enumerate(preds):\n",
    "    print(f\"Prognozowana sprzedaż produktu {kod} za miesiąc {i} od teraz: {p:.2f}\")"
   ]
  },
  {
   "cell_type": "code",
   "execution_count": null,
   "id": "dfed98e1",
   "metadata": {},
   "outputs": [
    {
     "ename": "ValueError",
     "evalue": "With n_samples=1, test_size=0.2 and train_size=None, the resulting train set will be empty. Adjust any of the aforementioned parameters.",
     "output_type": "error",
     "traceback": [
      "\u001b[1;31m---------------------------------------------------------------------------\u001b[0m",
      "\u001b[1;31mValueError\u001b[0m                                Traceback (most recent call last)",
      "Cell \u001b[1;32mIn[6], line 4\u001b[0m\n\u001b[0;32m      1\u001b[0m X \u001b[38;5;241m=\u001b[39m df_filtered\u001b[38;5;241m.\u001b[39miloc[:, :\u001b[38;5;241m-\u001b[39m\u001b[38;5;241m1\u001b[39m]\n\u001b[0;32m      2\u001b[0m y \u001b[38;5;241m=\u001b[39m df_filtered\u001b[38;5;241m.\u001b[39miloc[:, \u001b[38;5;241m-\u001b[39m\u001b[38;5;241m1\u001b[39m]\n\u001b[1;32m----> 4\u001b[0m X_train, X_test, y_train, y_test \u001b[38;5;241m=\u001b[39m \u001b[43mtrain_test_split\u001b[49m\u001b[43m(\u001b[49m\u001b[43mX\u001b[49m\u001b[43m,\u001b[49m\u001b[43m \u001b[49m\u001b[43my\u001b[49m\u001b[43m,\u001b[49m\u001b[43m \u001b[49m\u001b[43mtest_size\u001b[49m\u001b[38;5;241;43m=\u001b[39;49m\u001b[38;5;241;43m0.2\u001b[39;49m\u001b[43m,\u001b[49m\u001b[43m \u001b[49m\u001b[43mrandom_state\u001b[49m\u001b[38;5;241;43m=\u001b[39;49m\u001b[38;5;241;43m42\u001b[39;49m\u001b[43m)\u001b[49m\n\u001b[0;32m      6\u001b[0m model \u001b[38;5;241m=\u001b[39m XGBRegressor()\n\u001b[0;32m      7\u001b[0m model\u001b[38;5;241m.\u001b[39mfit(X_train, y_train)\n",
      "File \u001b[1;32mc:\\Python312\\Lib\\site-packages\\sklearn\\utils\\_param_validation.py:216\u001b[0m, in \u001b[0;36mvalidate_params.<locals>.decorator.<locals>.wrapper\u001b[1;34m(*args, **kwargs)\u001b[0m\n\u001b[0;32m    210\u001b[0m \u001b[38;5;28;01mtry\u001b[39;00m:\n\u001b[0;32m    211\u001b[0m     \u001b[38;5;28;01mwith\u001b[39;00m config_context(\n\u001b[0;32m    212\u001b[0m         skip_parameter_validation\u001b[38;5;241m=\u001b[39m(\n\u001b[0;32m    213\u001b[0m             prefer_skip_nested_validation \u001b[38;5;129;01mor\u001b[39;00m global_skip_validation\n\u001b[0;32m    214\u001b[0m         )\n\u001b[0;32m    215\u001b[0m     ):\n\u001b[1;32m--> 216\u001b[0m         \u001b[38;5;28;01mreturn\u001b[39;00m \u001b[43mfunc\u001b[49m\u001b[43m(\u001b[49m\u001b[38;5;241;43m*\u001b[39;49m\u001b[43margs\u001b[49m\u001b[43m,\u001b[49m\u001b[43m \u001b[49m\u001b[38;5;241;43m*\u001b[39;49m\u001b[38;5;241;43m*\u001b[39;49m\u001b[43mkwargs\u001b[49m\u001b[43m)\u001b[49m\n\u001b[0;32m    217\u001b[0m \u001b[38;5;28;01mexcept\u001b[39;00m InvalidParameterError \u001b[38;5;28;01mas\u001b[39;00m e:\n\u001b[0;32m    218\u001b[0m     \u001b[38;5;66;03m# When the function is just a wrapper around an estimator, we allow\u001b[39;00m\n\u001b[0;32m    219\u001b[0m     \u001b[38;5;66;03m# the function to delegate validation to the estimator, but we replace\u001b[39;00m\n\u001b[0;32m    220\u001b[0m     \u001b[38;5;66;03m# the name of the estimator by the name of the function in the error\u001b[39;00m\n\u001b[0;32m    221\u001b[0m     \u001b[38;5;66;03m# message to avoid confusion.\u001b[39;00m\n\u001b[0;32m    222\u001b[0m     msg \u001b[38;5;241m=\u001b[39m re\u001b[38;5;241m.\u001b[39msub(\n\u001b[0;32m    223\u001b[0m         \u001b[38;5;124mr\u001b[39m\u001b[38;5;124m\"\u001b[39m\u001b[38;5;124mparameter of \u001b[39m\u001b[38;5;124m\\\u001b[39m\u001b[38;5;124mw+ must be\u001b[39m\u001b[38;5;124m\"\u001b[39m,\n\u001b[0;32m    224\u001b[0m         \u001b[38;5;124mf\u001b[39m\u001b[38;5;124m\"\u001b[39m\u001b[38;5;124mparameter of \u001b[39m\u001b[38;5;132;01m{\u001b[39;00mfunc\u001b[38;5;241m.\u001b[39m\u001b[38;5;18m__qualname__\u001b[39m\u001b[38;5;132;01m}\u001b[39;00m\u001b[38;5;124m must be\u001b[39m\u001b[38;5;124m\"\u001b[39m,\n\u001b[0;32m    225\u001b[0m         \u001b[38;5;28mstr\u001b[39m(e),\n\u001b[0;32m    226\u001b[0m     )\n",
      "File \u001b[1;32mc:\\Python312\\Lib\\site-packages\\sklearn\\model_selection\\_split.py:2851\u001b[0m, in \u001b[0;36mtrain_test_split\u001b[1;34m(test_size, train_size, random_state, shuffle, stratify, *arrays)\u001b[0m\n\u001b[0;32m   2848\u001b[0m arrays \u001b[38;5;241m=\u001b[39m indexable(\u001b[38;5;241m*\u001b[39marrays)\n\u001b[0;32m   2850\u001b[0m n_samples \u001b[38;5;241m=\u001b[39m _num_samples(arrays[\u001b[38;5;241m0\u001b[39m])\n\u001b[1;32m-> 2851\u001b[0m n_train, n_test \u001b[38;5;241m=\u001b[39m \u001b[43m_validate_shuffle_split\u001b[49m\u001b[43m(\u001b[49m\n\u001b[0;32m   2852\u001b[0m \u001b[43m    \u001b[49m\u001b[43mn_samples\u001b[49m\u001b[43m,\u001b[49m\u001b[43m \u001b[49m\u001b[43mtest_size\u001b[49m\u001b[43m,\u001b[49m\u001b[43m \u001b[49m\u001b[43mtrain_size\u001b[49m\u001b[43m,\u001b[49m\u001b[43m \u001b[49m\u001b[43mdefault_test_size\u001b[49m\u001b[38;5;241;43m=\u001b[39;49m\u001b[38;5;241;43m0.25\u001b[39;49m\n\u001b[0;32m   2853\u001b[0m \u001b[43m\u001b[49m\u001b[43m)\u001b[49m\n\u001b[0;32m   2855\u001b[0m \u001b[38;5;28;01mif\u001b[39;00m shuffle \u001b[38;5;129;01mis\u001b[39;00m \u001b[38;5;28;01mFalse\u001b[39;00m:\n\u001b[0;32m   2856\u001b[0m     \u001b[38;5;28;01mif\u001b[39;00m stratify \u001b[38;5;129;01mis\u001b[39;00m \u001b[38;5;129;01mnot\u001b[39;00m \u001b[38;5;28;01mNone\u001b[39;00m:\n",
      "File \u001b[1;32mc:\\Python312\\Lib\\site-packages\\sklearn\\model_selection\\_split.py:2481\u001b[0m, in \u001b[0;36m_validate_shuffle_split\u001b[1;34m(n_samples, test_size, train_size, default_test_size)\u001b[0m\n\u001b[0;32m   2478\u001b[0m n_train, n_test \u001b[38;5;241m=\u001b[39m \u001b[38;5;28mint\u001b[39m(n_train), \u001b[38;5;28mint\u001b[39m(n_test)\n\u001b[0;32m   2480\u001b[0m \u001b[38;5;28;01mif\u001b[39;00m n_train \u001b[38;5;241m==\u001b[39m \u001b[38;5;241m0\u001b[39m:\n\u001b[1;32m-> 2481\u001b[0m     \u001b[38;5;28;01mraise\u001b[39;00m \u001b[38;5;167;01mValueError\u001b[39;00m(\n\u001b[0;32m   2482\u001b[0m         \u001b[38;5;124m\"\u001b[39m\u001b[38;5;124mWith n_samples=\u001b[39m\u001b[38;5;132;01m{}\u001b[39;00m\u001b[38;5;124m, test_size=\u001b[39m\u001b[38;5;132;01m{}\u001b[39;00m\u001b[38;5;124m and train_size=\u001b[39m\u001b[38;5;132;01m{}\u001b[39;00m\u001b[38;5;124m, the \u001b[39m\u001b[38;5;124m\"\u001b[39m\n\u001b[0;32m   2483\u001b[0m         \u001b[38;5;124m\"\u001b[39m\u001b[38;5;124mresulting train set will be empty. Adjust any of the \u001b[39m\u001b[38;5;124m\"\u001b[39m\n\u001b[0;32m   2484\u001b[0m         \u001b[38;5;124m\"\u001b[39m\u001b[38;5;124maforementioned parameters.\u001b[39m\u001b[38;5;124m\"\u001b[39m\u001b[38;5;241m.\u001b[39mformat(n_samples, test_size, train_size)\n\u001b[0;32m   2485\u001b[0m     )\n\u001b[0;32m   2487\u001b[0m \u001b[38;5;28;01mreturn\u001b[39;00m n_train, n_test\n",
      "\u001b[1;31mValueError\u001b[0m: With n_samples=1, test_size=0.2 and train_size=None, the resulting train set will be empty. Adjust any of the aforementioned parameters."
     ]
    }
   ],
   "source": []
  },
  {
   "cell_type": "code",
   "execution_count": null,
   "id": "5ed034b9",
   "metadata": {},
   "outputs": [],
   "source": []
  }
 ],
 "metadata": {
  "kernelspec": {
   "display_name": "Python 3",
   "language": "python",
   "name": "python3"
  },
  "language_info": {
   "codemirror_mode": {
    "name": "ipython",
    "version": 3
   },
   "file_extension": ".py",
   "mimetype": "text/x-python",
   "name": "python",
   "nbconvert_exporter": "python",
   "pygments_lexer": "ipython3",
   "version": "3.12.7"
  }
 },
 "nbformat": 4,
 "nbformat_minor": 5
}

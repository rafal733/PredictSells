{
 "cells": [
  {
   "cell_type": "code",
   "execution_count": 3,
   "id": "f6e06867",
   "metadata": {},
   "outputs": [],
   "source": [
    "from dataloader import DataLoader\n",
    "import pandas as pd\n",
    "import numpy as np"
   ]
  },
  {
   "cell_type": "code",
   "execution_count": 4,
   "id": "ab4c2f00",
   "metadata": {},
   "outputs": [],
   "source": [
    "loader = DataLoader()"
   ]
  },
  {
   "cell_type": "code",
   "execution_count": 5,
   "id": "da3d451a",
   "metadata": {},
   "outputs": [],
   "source": [
    "loader.load_sells_data_from_file('sprzedaz.csv')\n",
    "df_filtered = loader = loader.prepare_sells_data()\n"
   ]
  },
  {
   "cell_type": "code",
   "execution_count": 6,
   "id": "39105860",
   "metadata": {},
   "outputs": [
    {
     "name": "stdout",
     "output_type": "stream",
     "text": [
      "Prognozowana sprzedaż produktu 2008 za miesiąc 0 od teraz: 256.63\n",
      "Prognozowana sprzedaż produktu 2008 za miesiąc 1 od teraz: 288.92\n",
      "Prognozowana sprzedaż produktu 2008 za miesiąc 2 od teraz: 323.83\n"
     ]
    },
    {
     "name": "stderr",
     "output_type": "stream",
     "text": [
      "c:\\Python312\\Lib\\site-packages\\sklearn\\utils\\validation.py:2739: UserWarning: X does not have valid feature names, but RandomForestRegressor was fitted with feature names\n",
      "  warnings.warn(\n",
      "c:\\Python312\\Lib\\site-packages\\sklearn\\utils\\validation.py:2739: UserWarning: X does not have valid feature names, but RandomForestRegressor was fitted with feature names\n",
      "  warnings.warn(\n",
      "c:\\Python312\\Lib\\site-packages\\sklearn\\utils\\validation.py:2739: UserWarning: X does not have valid feature names, but RandomForestRegressor was fitted with feature names\n",
      "  warnings.warn(\n"
     ]
    }
   ],
   "source": [
    "import pandas as pd\n",
    "from sklearn.ensemble import RandomForestRegressor\n",
    "from sklearn.preprocessing import LabelEncoder\n",
    "\n",
    "# 2. Lista kolumn miesięcznych: od 96 do 1 (jako stringi)\n",
    "miesiace_kolumny = [str(i) for i in range(96, 0, -1)]\n",
    "\n",
    "# 3. Agregacja: suma sprzedaży na poziomie KodProduktu\n",
    "df_agg = df_filtered.groupby(\"KodProduktu\")[miesiace_kolumny].sum().reset_index()\n",
    "\n",
    "# 4. Long format\n",
    "df_long = df_agg.melt(id_vars=\"KodProduktu\", var_name=\"miesiac_ago\", value_name=\"sprzedaz\")\n",
    "df_long[\"miesiac_ago\"] = df_long[\"miesiac_ago\"].astype(int)\n",
    "df_long[\"czas\"] = 97 - df_long[\"miesiac_ago\"]  # np. 1 to najstarszy, 96 to ostatni znany\n",
    "\n",
    "# 5. Tworzenie cech lagowych\n",
    "lags = [1, 2, 3]\n",
    "for lag in lags:\n",
    "    df_long[f\"lag_{lag}\"] = df_long.groupby(\"KodProduktu\")[\"sprzedaz\"].shift(lag)\n",
    "\n",
    "# 6. Usunięcie braków\n",
    "df_lags = df_long.dropna().copy()\n",
    "\n",
    "# 7. Zakodowanie KodProduktu\n",
    "le = LabelEncoder()\n",
    "df_lags[\"KodProduktu_enc\"] = le.fit_transform(df_lags[\"KodProduktu\"])\n",
    "\n",
    "# 8. Przygotowanie danych treningowych\n",
    "X = df_lags[[f\"lag_{l}\" for l in lags] + [\"KodProduktu_enc\"]]\n",
    "y = df_lags[\"sprzedaz\"]\n",
    "\n",
    "# 9. Trening modelu\n",
    "model = RandomForestRegressor(n_estimators=100, random_state=42)\n",
    "model.fit(X, y)\n",
    "\n",
    "# 10. Predykcja dla wybranego produktu\n",
    "kod = \"2008\"  # <- tutaj wpisz KodProduktu, dla którego chcesz prognozę\n",
    "\n",
    "# Ostatnie dane tego produktu\n",
    "df_kod = df_lags[df_lags[\"KodProduktu\"] == kod].sort_values(\"czas\", ascending=False)\n",
    "\n",
    "# Bierzemy ostatnie znane lags\n",
    "last_values = df_kod.head(3)[\"sprzedaz\"].tolist()\n",
    "\n",
    "# Zakoduj produkt\n",
    "kod_enc = le.transform([kod])[0]\n",
    "\n",
    "# Predykcja 3 przyszłych miesięcy: 0, -1, -2\n",
    "preds = []\n",
    "for _ in range(3):\n",
    "    x_input = [last_values[-1], last_values[-2], last_values[-3]][::-1]\n",
    "    x_input.append(kod_enc)\n",
    "    y_pred = model.predict([x_input])[0]\n",
    "    preds.append(y_pred)\n",
    "    last_values.append(y_pred)\n",
    "\n",
    "# 11. Wynik\n",
    "for i, p in enumerate(preds):\n",
    "    print(f\"Prognozowana sprzedaż produktu {kod} za miesiąc {i} od teraz: {p:.2f}\")"
   ]
  },
  {
   "cell_type": "code",
   "execution_count": 7,
   "id": "85cc8c17",
   "metadata": {},
   "outputs": [
    {
     "name": "stdout",
     "output_type": "stream",
     "text": [
      "Prognozowana sprzedaż produktu 2007 za miesiąc 0 od teraz: 207.50\n",
      "Prognozowana sprzedaż produktu 2007 za miesiąc 1 od teraz: 202.92\n",
      "Prognozowana sprzedaż produktu 2007 za miesiąc 2 od teraz: 174.31\n"
     ]
    }
   ],
   "source": [
    "import pandas as pd\n",
    "import xgboost as xgb\n",
    "from sklearn.preprocessing import LabelEncoder\n",
    "\n",
    "# 2. Kolumny miesięczne\n",
    "miesiace_kolumny = [str(i) for i in range(96, 0, -1)]\n",
    "\n",
    "# 3. Agregacja do poziomu produktu\n",
    "df_agg = df_filtered.groupby(\"KodProduktu\")[miesiace_kolumny].sum().reset_index()\n",
    "\n",
    "# 4. Przekształcenie na długi format\n",
    "df_long = df_agg.melt(id_vars=\"KodProduktu\", var_name=\"miesiac_ago\", value_name=\"sprzedaz\")\n",
    "df_long[\"miesiac_ago\"] = df_long[\"miesiac_ago\"].astype(int)\n",
    "df_long[\"czas\"] = 97 - df_long[\"miesiac_ago\"]\n",
    "\n",
    "# 5. Tworzenie lagów\n",
    "lags = [1, 2, 3]\n",
    "for lag in lags:\n",
    "    df_long[f\"lag_{lag}\"] = df_long.groupby(\"KodProduktu\")[\"sprzedaz\"].shift(lag)\n",
    "\n",
    "df_lags = df_long.dropna().copy()\n",
    "\n",
    "# 6. Kodowanie KodProduktu\n",
    "le = LabelEncoder()\n",
    "df_lags[\"KodProduktu_enc\"] = le.fit_transform(df_lags[\"KodProduktu\"])\n",
    "\n",
    "# 7. Dane treningowe\n",
    "X = df_lags[[f\"lag_{l}\" for l in lags] + [\"KodProduktu_enc\"]]\n",
    "y = df_lags[\"sprzedaz\"]\n",
    "\n",
    "# 8. Trening modelu XGBoost\n",
    "model = xgb.XGBRegressor(n_estimators=100, max_depth=5, learning_rate=0.1, random_state=42)\n",
    "model.fit(X, y)\n",
    "\n",
    "# 9. Prognozowanie dla wybranego produktu\n",
    "kod = \"2007\"  # <- wpisz dowolny KodProduktu\n",
    "kod_enc = le.transform([kod])[0]\n",
    "\n",
    "# Ostatnie znane dane produktu\n",
    "df_kod = df_lags[df_lags[\"KodProduktu\"] == kod].sort_values(\"czas\", ascending=False)\n",
    "last_values = df_kod.head(3)[\"sprzedaz\"].tolist()\n",
    "\n",
    "# Prognozujemy na 3 przyszłe miesiące\n",
    "preds = []\n",
    "for _ in range(3):\n",
    "    x_input = [last_values[-1], last_values[-2], last_values[-3]][::-1]\n",
    "    x_input.append(kod_enc)\n",
    "    y_pred = model.predict([x_input])[0]\n",
    "    preds.append(y_pred)\n",
    "    last_values.append(y_pred)\n",
    "\n",
    "# 10. Wynik\n",
    "for i, p in enumerate(preds):\n",
    "    print(f\"Prognozowana sprzedaż produktu {kod} za miesiąc {i} od teraz: {p:.2f}\")"
   ]
  },
  {
   "cell_type": "code",
   "execution_count": null,
   "id": "5ed034b9",
   "metadata": {},
   "outputs": [],
   "source": []
  }
 ],
 "metadata": {
  "kernelspec": {
   "display_name": "Python 3",
   "language": "python",
   "name": "python3"
  },
  "language_info": {
   "codemirror_mode": {
    "name": "ipython",
    "version": 3
   },
   "file_extension": ".py",
   "mimetype": "text/x-python",
   "name": "python",
   "nbconvert_exporter": "python",
   "pygments_lexer": "ipython3",
   "version": "3.12.7"
  }
 },
 "nbformat": 4,
 "nbformat_minor": 5
}
